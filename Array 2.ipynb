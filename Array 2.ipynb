{
 "cells": [
  {
   "cell_type": "markdown",
   "metadata": {},
   "source": [
    "<h2>Anagram Check</h2>"
   ]
  },
  {
   "cell_type": "code",
   "execution_count": 1,
   "metadata": {},
   "outputs": [
    {
     "name": "stdout",
     "output_type": "stream",
     "text": [
      "Yes it is an Anagram\n"
     ]
    }
   ],
   "source": [
    "# Not 100% Corect\n",
    "def AnagramCheck2(txt, txt2):\n",
    "    indx = -1\n",
    "    err = False\n",
    "    for i in range(len(txt)):\n",
    "        indx+=1\n",
    "        char = txt[indx]\n",
    "        x = txt2.find(char)\n",
    "        if x == -1:\n",
    "            err = True\n",
    "            break\n",
    "        else:\n",
    "            err = False\n",
    "    if not err:\n",
    "        print(\"Yes it is an Anagram\")\n",
    "    else:\n",
    "        print(\"Not an Anagram\")\n",
    "AnagramCheck2('Hey Man', 'MaH ney')"
   ]
  },
  {
   "cell_type": "code",
   "execution_count": 2,
   "metadata": {},
   "outputs": [
    {
     "name": "stdout",
     "output_type": "stream",
     "text": [
      "Not Anagram\n"
     ]
    }
   ],
   "source": [
    "def AnagramCheck(txt, txt2):\n",
    "    txt = txt.lower()\n",
    "    txt2 = txt2.lower()\n",
    "    txt = sorted(txt)\n",
    "    txt2 = sorted(txt2)\n",
    "    if txt == txt2:\n",
    "        print(\"Yes it is Anagram\")\n",
    "    else:\n",
    "        print(\"Not Anagram\")\n",
    "AnagramCheck('Hey Man', 'MaH ney2')"
   ]
  },
  {
   "cell_type": "code",
   "execution_count": 3,
   "metadata": {
    "scrolled": true
   },
   "outputs": [
    {
     "name": "stdout",
     "output_type": "stream",
     "text": [
      "Anagram\n"
     ]
    }
   ],
   "source": [
    "def AnagramCheckHard2(sen, sen2):\n",
    "    if len(sen) != len(sen2):\n",
    "        return \"Error\"\n",
    "    sen = sen.lower()\n",
    "    sen2 = sen2.lower()\n",
    "    sen = sorted(sen)\n",
    "    sen2 = sorted(sen2)\n",
    "    lst = []\n",
    "    lst2 = []\n",
    "    indx = -1\n",
    "    for i in range(len(sen)):\n",
    "        indx+=1\n",
    "        char = sen[indx]\n",
    "        di= {char:0}\n",
    "        lst.append(di)\n",
    "    indx = -1\n",
    "    for i in range(len(lst)):\n",
    "        for key, value in lst[indx].items():\n",
    "            indx+=1\n",
    "            char = sen[indx]\n",
    "            if key == char:\n",
    "                lst[indx][char] = value=+1\n",
    "    indx = -1\n",
    "    for i in range(len(sen)):\n",
    "        indx+=1\n",
    "        char = sen2[indx]\n",
    "        di= {char:0}\n",
    "        lst2.append(di)\n",
    "    indx = -1\n",
    "    for i in range(len(lst2)):\n",
    "        for key, value in lst2[indx].items():\n",
    "            indx+=1\n",
    "            char = sen[indx]\n",
    "            if key == char:\n",
    "                lst2[indx][char] = value=+1\n",
    "    if lst == lst2:\n",
    "        return \"Anagram\"\n",
    "    else:\n",
    "        return \"Not an Anagram\"\n",
    "\n",
    "print(AnagramCheckHard2('Hey Many', 'MaH neyy'))"
   ]
  },
  {
   "cell_type": "code",
   "execution_count": 4,
   "metadata": {},
   "outputs": [
    {
     "name": "stdout",
     "output_type": "stream",
     "text": [
      "True\n"
     ]
    }
   ],
   "source": [
    "def AnagramCheckHard(sen, sen2):\n",
    "    sen = sen.split(' ')\n",
    "    sen2 = sen2.split(' ')\n",
    "    sen = \"\".join(sen)\n",
    "    sen2 = \"\".join(sen2)\n",
    "    if len(sen) != len(sen2):\n",
    "        return False\n",
    "    sen = sen.lower()\n",
    "    sen2 = sen2.lower()\n",
    "    dict1 = {}\n",
    "    dict2 = {}\n",
    "    for key in sen:\n",
    "        if key in dict1:\n",
    "            dict1[key] = dict1[key] + 1\n",
    "        else:\n",
    "            dict1[key]  = 1\n",
    "    for key in sen2:\n",
    "        if key in dict2:\n",
    "            dict2[key] = dict2[key] + 1\n",
    "        else:\n",
    "            dict2[key]  = 1\n",
    "    if dict1 == dict2:\n",
    "        return True\n",
    "    else:\n",
    "        return False\n",
    "print(AnagramCheckHard('Hey Man', 'MaH ney'))"
   ]
  },
  {
   "cell_type": "markdown",
   "metadata": {},
   "source": [
    "<hr>\n",
    "Input:<br>\n",
    "    Number of Students: 4<br>\n",
    "    Himaloy 100<br>\n",
    "    Rohan 78<br>\n",
    "    Rahul 90<br>\n",
    "    Aloo 78<br>\n",
    "Output:<br>\n",
    "    Rohan<br>\n",
    "    Aloo<br>"
   ]
  },
  {
   "cell_type": "code",
   "execution_count": 5,
   "metadata": {},
   "outputs": [
    {
     "name": "stdout",
     "output_type": "stream",
     "text": [
      "Number of Students: 4\n",
      "Name: Himaloy\n",
      "Marks: 100\n",
      "Name: Rahul\n",
      "Marks: 89\n",
      "Name: Sam\n",
      "Marks: 96\n",
      "Name: Aloo\n",
      "Marks: 89\n",
      "Rahul\n",
      "Aloo\n"
     ]
    }
   ],
   "source": [
    "no = int(input(\"Number of Students: \"))\n",
    "di = {}\n",
    "mini = 101\n",
    "for i in range(no):\n",
    "    name = str(input('Name: '))\n",
    "    marks = float(input('Marks: '))\n",
    "    if marks < mini:\n",
    "        mini = marks\n",
    "    di[name] = marks\n",
    "name = []\n",
    "for key, val in di.items():\n",
    "    if val == mini:\n",
    "        name.append(key)\n",
    "l = sorted(name)\n",
    "for i in range(len(l)):\n",
    "    print(name[i])"
   ]
  },
  {
   "cell_type": "markdown",
   "metadata": {},
   "source": [
    "<hr>\n",
    "Find the missing element <br>\n",
    "Input:<br>\n",
    "[1, 3, 2, 6, 10], [1, 2, 6, 10]\n",
    "Output:\n",
    "3"
   ]
  },
  {
   "cell_type": "code",
   "execution_count": 6,
   "metadata": {},
   "outputs": [
    {
     "name": "stdout",
     "output_type": "stream",
     "text": [
      "6\n"
     ]
    }
   ],
   "source": [
    "def missingelement1(lst1, lst2):\n",
    "    num1 = 0\n",
    "    num2 = 0\n",
    "    for n in lst1:\n",
    "        num1 = num1 + n\n",
    "    for n in lst2:\n",
    "        num2 = num2 + n\n",
    "    return num1-num2\n",
    "print(missingelement1([1, 2, 4, 6], [1, 2, 4]))"
   ]
  },
  {
   "cell_type": "code",
   "execution_count": 7,
   "metadata": {},
   "outputs": [
    {
     "name": "stdout",
     "output_type": "stream",
     "text": [
      "5\n"
     ]
    }
   ],
   "source": [
    "def missingelement2(lst1, lst2):\n",
    "    lst1 = sorted(lst1)\n",
    "    lst2 = sorted(lst2)\n",
    "    i = 0\n",
    "    for n in range(len(lst1)):\n",
    "        if lst1[i] == lst2[i]:\n",
    "            i+=1\n",
    "        else:\n",
    "            return lst1[i]\n",
    "            break\n",
    "print(missingelement2([1, 7, 3, 5, 2], [1, 3, 2, 7]))"
   ]
  },
  {
   "cell_type": "markdown",
   "metadata": {},
   "source": [
    "<h1>Test Case</h1>"
   ]
  },
  {
   "cell_type": "code",
   "execution_count": 8,
   "metadata": {},
   "outputs": [
    {
     "name": "stdout",
     "output_type": "stream",
     "text": [
      "ALL TEST CASES PASSED\n"
     ]
    }
   ],
   "source": [
    "from nose.tools import assert_equal\n",
    "\n",
    "class AnagramTest(object):\n",
    "   \n",
    "    def test(self,sol):\n",
    "        assert_equal(sol('go go go','gggooo'),True)\n",
    "        assert_equal(sol('abc','cba'),True)\n",
    "        assert_equal(sol('hi man','hi     man'),True)\n",
    "        assert_equal(sol('aabbcc','aabbc'),False)\n",
    "        assert_equal(sol('123','1 2'),False)\n",
    "        print (\"ALL TEST CASES PASSED\")\n",
    "\n",
    "# Run Tests\n",
    "t = AnagramTest()\n",
    "t.test(AnagramCheckHard)"
   ]
  },
  {
   "cell_type": "code",
   "execution_count": 9,
   "metadata": {},
   "outputs": [
    {
     "name": "stdout",
     "output_type": "stream",
     "text": [
      "ALL TEST CASES PASSED\n"
     ]
    }
   ],
   "source": [
    "from nose.tools import assert_equal\n",
    "\n",
    "class TestFinder(object):\n",
    "   \n",
    "    def test(self,sol):\n",
    "        assert_equal(sol([5,5,7,7],[5,7,7]),5)\n",
    "        assert_equal(sol([1,2,3,4,5,6,7],[3,7,2,1,4,6]),5)\n",
    "        assert_equal(sol([9,8,7,6,5,4,3,2,1],[9,8,7,5,4,3,2,1]),6)\n",
    "        print ('ALL TEST CASES PASSED')\n",
    "\n",
    "# Run test\n",
    "t = TestFinder()\n",
    "t.test(missingelement2)"
   ]
  },
  {
   "cell_type": "markdown",
   "metadata": {},
   "source": [
    "<h1>Find the largest continuous sum</h1>"
   ]
  },
  {
   "cell_type": "code",
   "execution_count": 10,
   "metadata": {},
   "outputs": [
    {
     "name": "stdout",
     "output_type": "stream",
     "text": [
      "25 7 0\n"
     ]
    }
   ],
   "source": [
    "def ContiSum(l):\n",
    "    temp_sum = 0\n",
    "    larg_sum = 0\n",
    "    for i in l:\n",
    "        temp_sum = i + temp_sum\n",
    "        if temp_sum > larg_sum:\n",
    "            larg_sum = temp_sum\n",
    "            end_indx = l.index(i)\n",
    "    temp_sub = larg_sum\n",
    "    indx = end_indx\n",
    "    for n in range(end_indx+1):\n",
    "        num = l[indx]\n",
    "        temp_sub = temp_sub - num\n",
    "        if temp_sub == 0:\n",
    "            break\n",
    "        indx = indx-1\n",
    "    print(larg_sum, end_indx, indx)\n",
    "ContiSum([5, 3, 7, -3, 2, -5, 7, 9, -9])"
   ]
  }
 ],
 "metadata": {
  "kernelspec": {
   "display_name": "Python 3",
   "language": "python",
   "name": "python3"
  },
  "language_info": {
   "codemirror_mode": {
    "name": "ipython",
    "version": 3
   },
   "file_extension": ".py",
   "mimetype": "text/x-python",
   "name": "python",
   "nbconvert_exporter": "python",
   "pygments_lexer": "ipython3",
   "version": "3.8.5"
  }
 },
 "nbformat": 4,
 "nbformat_minor": 4
}
