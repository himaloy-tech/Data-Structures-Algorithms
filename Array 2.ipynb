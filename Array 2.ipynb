{
 "cells": [
  {
   "cell_type": "markdown",
   "metadata": {},
   "source": [
    "<h2>Anagram Check</h2>"
   ]
  },
  {
   "cell_type": "code",
   "execution_count": 1,
   "metadata": {},
   "outputs": [
    {
     "name": "stdout",
     "output_type": "stream",
     "text": [
      "Yes it is an Anagram\n"
     ]
    }
   ],
   "source": [
    "# Not 100% Corect\n",
    "def AnagramCheck2(txt, txt2):\n",
    "    indx = -1\n",
    "    err = False\n",
    "    for i in range(len(txt)):\n",
    "        indx+=1\n",
    "        char = txt[indx]\n",
    "        x = txt2.find(char)\n",
    "        if x == -1:\n",
    "            err = True\n",
    "            break\n",
    "        else:\n",
    "            err = False\n",
    "    if not err:\n",
    "        print(\"Yes it is an Anagram\")\n",
    "    else:\n",
    "        print(\"Not an Anagram\")\n",
    "AnagramCheck2('Hey Man', 'MaH ney')"
   ]
  },
  {
   "cell_type": "code",
   "execution_count": 2,
   "metadata": {},
   "outputs": [
    {
     "name": "stdout",
     "output_type": "stream",
     "text": [
      "Not Anagram\n"
     ]
    }
   ],
   "source": [
    "def AnagramCheck(txt, txt2):\n",
    "    txt = txt.lower()\n",
    "    txt2 = txt2.lower()\n",
    "    txt = sorted(txt)\n",
    "    txt2 = sorted(txt2)\n",
    "    if txt == txt2:\n",
    "        print(\"Yes it is Anagram\")\n",
    "    else:\n",
    "        print(\"Not Anagram\")\n",
    "AnagramCheck('Hey Man', 'MaH ney2')"
   ]
  },
  {
   "cell_type": "code",
   "execution_count": 3,
   "metadata": {
    "scrolled": true
   },
   "outputs": [
    {
     "name": "stdout",
     "output_type": "stream",
     "text": [
      "Anagram\n"
     ]
    }
   ],
   "source": [
    "def AnagramCheckHard(sen, sen2):\n",
    "    sen = sen.lower()\n",
    "    sen2 = sen2.lower()\n",
    "    sen = sorted(sen)\n",
    "    sen2 = sorted(sen2)\n",
    "    lst = []\n",
    "    lst2 = []\n",
    "    indx = -1\n",
    "    for i in range(len(sen)):\n",
    "        indx+=1\n",
    "        char = sen[indx]\n",
    "        di= {char:0}\n",
    "        lst.append(di)\n",
    "    indx = -1\n",
    "    for i in range(len(lst)):\n",
    "        for key, value in lst[indx].items():\n",
    "            indx+=1\n",
    "            char = sen[indx]\n",
    "            if key == char:\n",
    "                lst[indx][char] = value=+1\n",
    "    indx = -1\n",
    "    for i in range(len(sen)):\n",
    "        indx+=1\n",
    "        char = sen2[indx]\n",
    "        di= {char:0}\n",
    "        lst2.append(di)\n",
    "    indx = -1\n",
    "    for i in range(len(lst2)):\n",
    "        for key, value in lst2[indx].items():\n",
    "            indx+=1\n",
    "            char = sen[indx]\n",
    "            if key == char:\n",
    "                lst2[indx][char] = value=+1\n",
    "    if lst == lst2:\n",
    "        return \"Anagram\"\n",
    "    else:\n",
    "        return \"Not an Anagram\"\n",
    "\n",
    "print(AnagramCheckHard('Hey Man', 'MaH ney'))"
   ]
  },
  {
   "cell_type": "code",
   "execution_count": 4,
   "metadata": {},
   "outputs": [
    {
     "name": "stdout",
     "output_type": "stream",
     "text": [
      "Number of Students: 4\n",
      "Name: Himaloy\n",
      "Marks: 100\n",
      "Name: Ram\n",
      "Marks: 89\n",
      "Name: Sam\n",
      "Marks: 96\n",
      "Name: Kunal\n",
      "Marks: 89\n",
      "Ram\n",
      "Kunal\n"
     ]
    }
   ],
   "source": [
    "no = int(input(\"Number of Students: \"))\n",
    "di = {}\n",
    "mini = 101\n",
    "for i in range(no):\n",
    "    name = str(input('Name: '))\n",
    "    marks = float(input('Marks: '))\n",
    "    if marks < mini:\n",
    "        mini = marks\n",
    "    di[name] = marks\n",
    "name = []\n",
    "for key, val in di.items():\n",
    "    if val == mini:\n",
    "        name.append(key)\n",
    "l = sorted(name)\n",
    "for i in range(len(l)):\n",
    "    print(name[i])"
   ]
  },
  {
   "cell_type": "code",
   "execution_count": null,
   "metadata": {},
   "outputs": [],
   "source": []
  }
 ],
 "metadata": {
  "kernelspec": {
   "display_name": "Python 3",
   "language": "python",
   "name": "python3"
  },
  "language_info": {
   "codemirror_mode": {
    "name": "ipython",
    "version": 3
   },
   "file_extension": ".py",
   "mimetype": "text/x-python",
   "name": "python",
   "nbconvert_exporter": "python",
   "pygments_lexer": "ipython3",
   "version": "3.8.5"
  }
 },
 "nbformat": 4,
 "nbformat_minor": 4
}
