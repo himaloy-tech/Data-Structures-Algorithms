{
 "cells": [
  {
   "cell_type": "markdown",
   "metadata": {},
   "source": [
    "<h3>WAP to find the max element of a array without in built fuction</h3>"
   ]
  },
  {
   "cell_type": "code",
   "execution_count": 1,
   "metadata": {},
   "outputs": [
    {
     "name": "stdout",
     "output_type": "stream",
     "text": [
      "90\n"
     ]
    }
   ],
   "source": [
    "def findMax(l):\n",
    "    num = l[0]\n",
    "    for n in l:\n",
    "        if n > num:\n",
    "            num = n\n",
    "    return num\n",
    "print(findMax([23, 43, 2, 90, 81]))"
   ]
  },
  {
   "cell_type": "markdown",
   "metadata": {},
   "source": [
    "<h3>WAP a program to find the length of a array without using len(x)</h3>"
   ]
  },
  {
   "cell_type": "code",
   "execution_count": 2,
   "metadata": {},
   "outputs": [
    {
     "name": "stdout",
     "output_type": "stream",
     "text": [
      "4\n"
     ]
    }
   ],
   "source": [
    "def findLength(l):\n",
    "    length = 0\n",
    "    for n in l:\n",
    "        length+=1\n",
    "    return length\n",
    "print(findLength([1, 1, 2, 3]))"
   ]
  },
  {
   "cell_type": "markdown",
   "metadata": {},
   "source": [
    "<h3>WAP to find the sum of squares of each element in an array.</h3>"
   ]
  },
  {
   "cell_type": "code",
   "execution_count": 3,
   "metadata": {},
   "outputs": [
    {
     "name": "stdout",
     "output_type": "stream",
     "text": [
      "15\n"
     ]
    }
   ],
   "source": [
    "def findSq(l):\n",
    "    num = 0\n",
    "    for n in l:\n",
    "        num = num+n*n\n",
    "    return num\n",
    "print(findSq([1, 1, 2, 3]))"
   ]
  },
  {
   "cell_type": "markdown",
   "metadata": {},
   "source": [
    "<h3>WAP to find the Second Largest element in an array [without Sorting]</h3>"
   ]
  },
  {
   "cell_type": "code",
   "execution_count": 4,
   "metadata": {},
   "outputs": [
    {
     "name": "stdout",
     "output_type": "stream",
     "text": [
      "4\n"
     ]
    }
   ],
   "source": [
    "def findSecondLargest(l):\n",
    "    maxi = findMax(l)\n",
    "    num = l[0]\n",
    "    for n in l:\n",
    "        if n < maxi and num < n:\n",
    "            num = n\n",
    "    return num\n",
    "print(findSecondLargest([1, 1, 8, 4, 8]))"
   ]
  },
  {
   "cell_type": "markdown",
   "metadata": {},
   "source": [
    "<h3>WAP to find the n^th largest element in an array [without Sorting]</h3>"
   ]
  },
  {
   "cell_type": "code",
   "execution_count": 5,
   "metadata": {},
   "outputs": [
    {
     "name": "stdout",
     "output_type": "stream",
     "text": [
      "2\n"
     ]
    }
   ],
   "source": [
    "def findNthLargest(l, numb):\n",
    "    for n in range(numb):\n",
    "        l.pop(l.index(findMax(l)))\n",
    "    return findMax(l)\n",
    "print(findNthLargest([1, 1, 3, 8, 2, 8], 3))"
   ]
  }
 ],
 "metadata": {
  "kernelspec": {
   "display_name": "Python 3",
   "language": "python",
   "name": "python3"
  },
  "language_info": {
   "codemirror_mode": {
    "name": "ipython",
    "version": 3
   },
   "file_extension": ".py",
   "mimetype": "text/x-python",
   "name": "python",
   "nbconvert_exporter": "python",
   "pygments_lexer": "ipython3",
   "version": "3.8.5"
  }
 },
 "nbformat": 4,
 "nbformat_minor": 4
}
